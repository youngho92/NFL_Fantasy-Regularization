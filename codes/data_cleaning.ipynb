{
 "cells": [
  {
   "cell_type": "code",
   "execution_count": 1,
   "metadata": {
    "collapsed": false
   },
   "outputs": [],
   "source": [
    "## import json file\n",
    "import json\n",
    "import pandas as pd\n",
    "import numpy as np\n",
    "\n",
    "# import both weekly and year files\n",
    "with open('NFL_data_weekly.json') as json_data:\n",
    "    data = json.load(json_data)\n"
   ]
  },
  {
   "cell_type": "code",
   "execution_count": 2,
   "metadata": {
    "collapsed": false
   },
   "outputs": [],
   "source": [
    "with open('NFL_data_yearly.json') as json_data:\n",
    "    data_yearly = json.load(json_data)\n"
   ]
  },
  {
   "cell_type": "code",
   "execution_count": 3,
   "metadata": {
    "collapsed": false
   },
   "outputs": [],
   "source": [
    "## convert the list into dictionary form\n",
    "d = {}\n",
    "for i in range(len(data)):\n",
    "    # key := ('Position', 'year', 'week') format\n",
    "    key = tuple(list(data[i].keys())[0].split('-'))\n",
    "    d[key] = list(data[i].values())[0]\n",
    "\n",
    "d_yearly = {}\n",
    "for i in range(len(data_yearly)):\n",
    "    key = tuple(list(data_yearly[i].keys())[0].split('-'))\n",
    "    d_yearly[key] = list(data_yearly[i].values())[0]"
   ]
  },
  {
   "cell_type": "code",
   "execution_count": 4,
   "metadata": {
    "collapsed": false
   },
   "outputs": [],
   "source": [
    "# First, let's find the necessary data for QB, 2011, week 4\n",
    "key = ('QB', '2011', '4')\n",
    "titles = d[key][3]\n",
    "players = d[key][0]\n",
    "stats = d[key][4]\n",
    "\n",
    "# make a pandas dataframe\n",
    "df2 = pd.DataFrame(columns=['pos', 'year', 'week', 'player', 'Fantasy Points']\n",
    "                  + [t + '_prev' for t in titles] + [t+'_prev_2wk' for t in titles] + [t+'_prev_3wk' for t in titles]\n",
    "                  + [t + '_prev_1yr' for t in titles])\n",
    "d_yearly[('QB', '2011', 'all')][2];"
   ]
  },
  {
   "cell_type": "code",
   "execution_count": 80,
   "metadata": {
    "collapsed": false
   },
   "outputs": [],
   "source": [
    "for year in range(2011, 2018):\n",
    "    for week in range(4, 18):\n",
    "        key = ('QB', str(year), str(week))\n",
    "        # get statistics types, name of players, and statistics\n",
    "        titles = d[key][3]\n",
    "        players = d[key][0]\n",
    "        stats = d[key][4]\n",
    "        \n",
    "        # make a new dataframe \n",
    "        df = pd.DataFrame(columns=['pos', 'year', 'week', 'player', 'Fantasy Points']\n",
    "                          + [t + '_prev' for t in titles] + [t+'_prev_2wk' for t in titles] + [t+'_prev_3wk' for t in titles]\n",
    "                          + [t + '_prev_1yr' for t in titles])\n",
    "        \n",
    "        df['player'] = players\n",
    "        df['pos'] = list(key)[0]\n",
    "        df['year'] = list(key)[1]\n",
    "        df['week'] = list(key)[2]\n",
    "        df['Fantasy Points'] = stats[0]\n",
    "\n",
    "        ## extract data of the previous weeks\n",
    "        # keys for previous 3 weeks\n",
    "        key_prevs = [tuple([k for k in list(key)[:-1]] + [str(int(key[2])-i)]) for i in range(1, 4)]\n",
    "\n",
    "        # add data of previous weeks respectively\n",
    "        for prev in range(len(key_prevs)):\n",
    "            # extract key\n",
    "            key_prev = key_prevs[prev]\n",
    "            players_prev = d[key_prev][0]\n",
    "            stats_prev = d[key_prev][4]\n",
    "\n",
    "            # add all information of the previous week\n",
    "            for idx_prev in range(len(players_prev)):\n",
    "                # check if the player exists\n",
    "                if players_prev[idx_prev] in players:\n",
    "                    idx = players.index(players_prev[idx_prev])\n",
    "                else:\n",
    "                    continue\n",
    "                for idx_col in range(len(stats_prev)):\n",
    "                    df.iloc[idx, idx_col+5+len(titles)*prev] = stats_prev[idx_col][idx_prev]\n",
    "        \n",
    "        ## extract data of the previous year\n",
    "        key_yearly = ('QB', str(year-1), 'all')\n",
    "        players_prev_yearly = d_yearly[key_yearly][0]\n",
    "        stats_prev_yearly = d_yearly[key_yearly][2][1:]\n",
    "        \n",
    "        # add all information of the previous year\n",
    "        for idx_prev in range(len(players_prev_yearly)):\n",
    "            # check if the player exists\n",
    "            if players_prev_yearly[idx_prev] in players:\n",
    "                idx = players.index(players_prev_yearly[idx_prev])\n",
    "            else:\n",
    "                continue\n",
    "        \n",
    "            for idx_col in range(len(stats_prev_yearly)):\n",
    "                df.iloc[idx, idx_col+5+len(titles)*len(key_prevs)] = stats_prev_yearly[idx_col][idx_prev]\n",
    "        \n",
    "        df2 = df2.append(df)"
   ]
  },
  {
   "cell_type": "code",
   "execution_count": 113,
   "metadata": {
    "collapsed": false
   },
   "outputs": [],
   "source": [
    "## save the pandas frame in the csv file\n",
    "df2 = df2.apply(lambda x: \"\".join(temp.split(',')) if ',' in x else x, axis=0)\n",
    "df2.to_csv('QB2.csv', index=False)\n"
   ]
  },
  {
   "cell_type": "code",
   "execution_count": 121,
   "metadata": {
    "collapsed": true
   },
   "outputs": [
    {
     "data": {
      "text/plain": [
       "0     27.333333\n",
       "1     18.000000\n",
       "2     25.666667\n",
       "3     11.666667\n",
       "4     18.333333\n",
       "5     14.000000\n",
       "6     20.333333\n",
       "7     22.000000\n",
       "8     13.000000\n",
       "9           NaN\n",
       "10    16.000000\n",
       "11    35.666667\n",
       "12    12.000000\n",
       "13    29.333333\n",
       "14    17.333333\n",
       "15    16.666667\n",
       "16    17.333333\n",
       "17    11.000000\n",
       "18     7.666667\n",
       "19    17.000000\n",
       "20    31.333333\n",
       "21     5.500000\n",
       "22    20.333333\n",
       "23    12.000000\n",
       "24    14.333333\n",
       "25    18.333333\n",
       "26    27.333333\n",
       "27    18.666667\n",
       "28          NaN\n",
       "29    23.000000\n",
       "        ...    \n",
       "8     21.000000\n",
       "9     15.333333\n",
       "10          NaN\n",
       "11    21.333333\n",
       "12    18.000000\n",
       "13    11.666667\n",
       "14    18.000000\n",
       "15    16.666667\n",
       "16    19.333333\n",
       "17    23.000000\n",
       "18          NaN\n",
       "19    13.333333\n",
       "20    18.000000\n",
       "21    12.000000\n",
       "22          NaN\n",
       "23          NaN\n",
       "24     5.000000\n",
       "25    16.333333\n",
       "26    17.000000\n",
       "27          NaN\n",
       "28    18.666667\n",
       "29          NaN\n",
       "30    12.666667\n",
       "31    26.333333\n",
       "32          NaN\n",
       "33    16.333333\n",
       "34          NaN\n",
       "35          NaN\n",
       "36    14.666667\n",
       "37          NaN\n",
       "dtype: float64"
      ]
     },
     "execution_count": 121,
     "metadata": {},
     "output_type": "execute_result"
    }
   ],
   "source": [
    "## drop the row if it contains more than 2 nan values\n",
    "x=df2[['Fantasy Points_prev', 'Fantasy Points_prev_2wk', 'Fantasy Points_prev_3wk']]\n",
    "x = x.astype(float)\n",
    "x.apply(lambda r: np.nan if r.isnull().sum() >= 2 else r.mean(), axis=1)"
   ]
  },
  {
   "cell_type": "code",
   "execution_count": 125,
   "metadata": {
    "collapsed": true
   },
   "outputs": [],
   "source": [
    "## add prev, prev_2wks, prev_3wks momentums\n",
    "for title in titles:\n",
    "    temp_1wk = title + '_prev'\n",
    "    temp_2wk = title + '_prev_2wk'\n",
    "    temp_3wk = title + '_prev_3wk'\n",
    "    \n",
    "    df_temp = df2[[temp_1wk, temp_2wk, temp_3wk]]\n",
    "    df_temp = df_temp.astype(float)\n",
    "    df2[title+'_momentum'] = df_temp.apply(lambda r: np.nan if r.isnull().sum() >= 2 else r.mean(), axis=1)\n",
    "\n",
    "df3 = df2[['pos', 'year', 'week', 'player', 'Fantasy Points'] + [t + '_prev' for t in titles] \n",
    "         + [t + '_momentum' for t in titles] + [t + '_prev_1yr' for t in titles]]\n",
    "# remove ',' from numbers (e.g.: 1,523 -> 1523)\n",
    "df3['Passing Yards_prev_1yr'] = pd.Series(df3['Passing Yards_prev_1yr']).str.replace(',', '')\n",
    "df3.to_csv('QB3.csv', index=False)"
   ]
  },
  {
   "cell_type": "code",
   "execution_count": 166,
   "metadata": {
    "collapsed": true
   },
   "outputs": [],
   "source": []
  }
 ],
 "metadata": {
  "kernelspec": {
   "display_name": "Python 3",
   "language": "python",
   "name": "python3"
  },
  "language_info": {
   "codemirror_mode": {
    "name": "ipython",
    "version": 3
   },
   "file_extension": ".py",
   "mimetype": "text/x-python",
   "name": "python",
   "nbconvert_exporter": "python",
   "pygments_lexer": "ipython3",
   "version": "3.6.0"
  }
 },
 "nbformat": 4,
 "nbformat_minor": 2
}
