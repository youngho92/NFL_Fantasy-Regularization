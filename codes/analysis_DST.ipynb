{
 "cells": [
  {
   "cell_type": "markdown",
   "metadata": {},
   "source": [
    "**analysis_DST file extracts useful features for teams and finds optimal parameters for regularizations (similar to analysis_QBWRRBTE)**"
   ]
  },
  {
   "cell_type": "code",
   "execution_count": null,
   "metadata": {
    "collapsed": true
   },
   "outputs": [],
   "source": [
    "from __future__ import print_function"
   ]
  },
  {
   "cell_type": "code",
   "execution_count": 3,
   "metadata": {
    "collapsed": false
   },
   "outputs": [],
   "source": [
    "# all of the imports\n",
    "import pandas as pd\n",
    "import numpy as np\n",
    "import pickle \n",
    "import patsy\n",
    "import statsmodels.api as sm\n",
    "import statsmodels.formula.api as smf\n",
    "import matplotlib.pyplot as plt\n",
    "import seaborn as sns\n",
    "from sklearn.linear_model import LinearRegression\n",
    "from sklearn import metrics\n",
    "from sklearn.preprocessing import PolynomialFeatures\n",
    "from sklearn.pipeline import make_pipeline\n",
    "from sklearn.cross_validation import train_test_split\n",
    "from sklearn.cross_validation import KFold\n",
    "% matplotlib inline\n",
    "\n",
    "import warnings\n",
    "warnings.filterwarnings('ignore')\n",
    "\n",
    "from sklearn.cross_validation import cross_val_score\n",
    "from sklearn import feature_selection as f_select\n",
    "from sklearn.linear_model import Lasso\n",
    "from sklearn.linear_model import Ridge\n",
    "from sklearn.metrics import mean_squared_error"
   ]
  },
  {
   "cell_type": "code",
   "execution_count": 4,
   "metadata": {
    "collapsed": true
   },
   "outputs": [],
   "source": [
    "pos = 'DST'\n",
    "df = pd.read_csv(pos+'_adj2.csv')\n",
    "df.dropna(inplace=True)\n",
    "df.reset_index(drop=True, inplace=True)\n",
    "\n",
    "features = dict()\n",
    "lasso = dict()\n",
    "ridge = dict()"
   ]
  },
  {
   "cell_type": "code",
   "execution_count": 25,
   "metadata": {
    "collapsed": false
   },
   "outputs": [],
   "source": [
    "df = df.sort_values(['year', 'week'])\n",
    "y = df['Fantasy Points'].reset_index(drop=True)\n",
    "X = df.drop(['Fantasy Points', 'pos', 'year', 'week', 'player'], axis=1).reset_index(drop=True)\n",
    "\n",
    "df_train = df[df['year'] <= 2015]\n",
    "df_test = df[df['year'] > 2015]\n",
    "\n",
    "# feature selection\n",
    "est = LinearRegression()\n",
    "\n",
    "kf = KFold(n=len(X), n_folds=5, shuffle=True)\n",
    "all_scores = []\n",
    "\n",
    "# Instead of using cross_val_score, let's use sklearn.cross_validation.KFold; this will allow\n",
    "# us to 'manipulate' our training set, \n",
    "\n",
    "# get indices of corresponding train & test\n",
    "for train,test in kf:\n",
    "    train.sort()\n",
    "    test.sort()\n",
    "    x_train=X.iloc[train]\n",
    "    y_train=y.iloc[train]\n",
    "    x_test=X.iloc[test]\n",
    "    y_test=y.iloc[test]\n",
    "    pvals=[]\n",
    "    sig_cols=[]\n",
    "\n",
    "    for feature in x_train.columns:\n",
    "        pval=f_select.f_regression(x_train[[feature]],y_train)\n",
    "        if pval[1][0]<.02: \n",
    "            sig_cols.append(feature)\n",
    "            pvals.append(pval[1][0])\n",
    "\n",
    "    est.fit(x_train[sig_cols],y_train)\n",
    "    r_2=est.score(x_test[sig_cols],y_test)\n",
    "    all_scores.append(r_2)\n",
    "\n",
    "features[pos] = sig_cols\n",
    "\n",
    "y_train = df_train['Fantasy Points']\n",
    "X_train = df_train[sig_cols]\n",
    "\n",
    "y_test = df_test['Fantasy Points']\n",
    "X_test = df_test[sig_cols]\n",
    "\n",
    "\n",
    "# LASSO\n",
    "\n",
    "## Ridge Regularization\n",
    "degrees = [1, 2, 3, 4, 5]\n",
    "alphas = [1e-6, 1e-3, 1, 1e6]\n",
    "len_degree = len(degrees)\n",
    "len_alpha = len(alphas)\n",
    "\n",
    "mse = []\n",
    "for degree in degrees:\n",
    "    for alpha_ in alphas:\n",
    "        est = make_pipeline(PolynomialFeatures(degree), Lasso(alpha=alpha_));\n",
    "        est.fit(X_train, y_train);\n",
    "        mse.append(mean_squared_error(y_train, est.predict(X_train)))\n",
    "\n",
    "\n",
    "max_index = mse.index(max(mse))\n",
    "max_index2 = [max_index // len_alpha, max_index % len_alpha]\n",
    "max_degree_lasso = degrees[max_index2[0]]\n",
    "max_alpha_lasso = alphas[max_index2[1]]\n",
    "\n",
    "lasso[pos] = [max_degree_lasso, max_alpha_lasso, mse]\n",
    "\n",
    "\n",
    "\n",
    "# Ridge\n",
    "\n",
    "## Ridge Regularization\n",
    "degrees = [1, 2, 3, 4, 5, 6]\n",
    "alphas = [1e-6, 1e-3, 1, 1e3, 1e6]\n",
    "len_degree = len(degrees)\n",
    "len_alpha = len(alphas)\n",
    "\n",
    "mse = []\n",
    "for degree in degrees:\n",
    "    for alpha_ in alphas:\n",
    "        est = make_pipeline(PolynomialFeatures(degree), Ridge(alpha=alpha_));\n",
    "        est.fit(X_train, y_train);\n",
    "        mse.append(mean_squared_error(y_train, est.predict(X_train)))\n",
    "\n",
    "\n",
    "max_index = mse.index(max(mse))\n",
    "max_index2 = [max_index // len_alpha, max_index % len_alpha]\n",
    "max_degree_ridge = degrees[max_index2[0]]\n",
    "max_alpha_ridge = alphas[max_index2[1]]\n",
    "\n",
    "ridge[pos] = [max_degree_ridge, max_alpha_ridge, mse]"
   ]
  },
  {
   "cell_type": "code",
   "execution_count": 4,
   "metadata": {
    "collapsed": false,
    "scrolled": false
   },
   "outputs": [
    {
     "data": {
      "text/plain": [
       "12"
      ]
     },
     "execution_count": 4,
     "metadata": {},
     "output_type": "execute_result"
    }
   ],
   "source": [
    "len(features['DST'])"
   ]
  }
 ],
 "metadata": {
  "kernelspec": {
   "display_name": "Python 3",
   "language": "python",
   "name": "python3"
  },
  "language_info": {
   "codemirror_mode": {
    "name": "ipython",
    "version": 3
   },
   "file_extension": ".py",
   "mimetype": "text/x-python",
   "name": "python",
   "nbconvert_exporter": "python",
   "pygments_lexer": "ipython3",
   "version": "3.6.0"
  }
 },
 "nbformat": 4,
 "nbformat_minor": 2
}
